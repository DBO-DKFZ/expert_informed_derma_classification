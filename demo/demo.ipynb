{
 "cells": [
  {
   "cell_type": "markdown",
   "id": "69546885-4ece-4176-90ff-d0e4efb5c8ca",
   "metadata": {},
   "source": [
    "# Demo usecase of the expert-knowledge Classifier"
   ]
  },
  {
   "cell_type": "code",
   "execution_count": 1,
   "id": "f0609629-999f-48f7-879c-728aa0a15116",
   "metadata": {},
   "outputs": [],
   "source": [
    "import argparse\n",
    "import os\n",
    "import torch\n",
    "import optuna\n",
    "import joblib\n",
    "from sklearn.metrics import ConfusionMatrixDisplay\n",
    "import matplotlib.pyplot as plt\n",
    "import numpy as np\n",
    "from pathlib import Path\n",
    "import pandas as pd\n",
    "\n",
    "os.chdir(\"..\")\n",
    "\n",
    "from DermaClassifier.inference.test_setup import test_metrices\n",
    "import DermaClassifier.utils.config as config\n",
    "import DermaClassifier.utils.train_setup as train_setup\n",
    "from DermaClassifier.utils.utils import get_saving_path, fix_randomness, get_device, set_hyperparameter_demo\n",
    "import DermaClassifier.utils.hyperparmeter as hp\n",
    "from DermaClassifier.inference.test_setup import test_setup\n",
    "from torcheval.metrics import MulticlassAccuracy, MulticlassAUROC, MulticlassConfusionMatrix, MulticlassF1Score"
   ]
  },
  {
   "cell_type": "markdown",
   "id": "b89a5cb6-1a0c-4386-bf99-2cd51c7b877f",
   "metadata": {},
   "source": [
    "## Demo case with minimal example\n",
    "\n",
    "In this Jupyter Notebook, we demonstrate how to use our expert-knowledge classifier and generate reproducible results on a small example dataset. The images used are from the HAM10K dataset. The accompanying table, `demo_label_data.csv`, contains the following information:\n",
    "\n",
    "**slideId**: Identifier for the slide \\\n",
    "**imageIds**: Identifiers for the individual images given in the directory `data` \\\n",
    "**diagnosis**: The ground truth diagnosis for each image \\\n",
    "**softlabel1** to **softlabel8**: Randomly selected diagnoses from us, provided as an example to illustrate how our soft-label approach functions"
   ]
  },
  {
   "cell_type": "markdown",
   "id": "5aaec41e-17be-457c-a583-18a3da2a1ef8",
   "metadata": {},
   "source": [
    "### Training"
   ]
  },
  {
   "cell_type": "markdown",
   "id": "cca8166a-c211-4a93-854a-bbbd86bc7400",
   "metadata": {},
   "source": [
    "Set parameters to train the model."
   ]
  },
  {
   "cell_type": "code",
   "execution_count": 2,
   "id": "3dacb48d-a797-4d5c-810d-a200aa7ddd38",
   "metadata": {},
   "outputs": [],
   "source": [
    "parser = argparse.ArgumentParser()\n",
    "args = parser.parse_args('')\n",
    "args.save_path = \"./runs/demo\"\n",
    "args.model = \"efficientnetB2\"\n",
    "args.epochs = 10\n",
    "args.loss = \"ce\"\n",
    "args.seed = 42\n",
    "args.demo = True\n",
    "args.images_path = os.path.join(\"demo\", \"data\")\n",
    "config.mask = None\n",
    "config.preprocess = \"rgb_darker\""
   ]
  },
  {
   "cell_type": "markdown",
   "id": "311a0209-3b2b-43c5-8c20-02ea999521ab",
   "metadata": {},
   "source": [
    "#### Optimization"
   ]
  },
  {
   "cell_type": "markdown",
   "id": "8616aa23-f091-428a-99d0-9bbff50c3f2a",
   "metadata": {},
   "source": [
    "Example of how to optimize. The parameters are stored in an optuna database in order to obtain as much information as possible on the optimum hyperparameters. In addition, the hyperparameters are stored in tables."
   ]
  },
  {
   "cell_type": "markdown",
   "id": "5da3f32b-28db-4fec-b00f-e3b41a4e058c",
   "metadata": {},
   "source": [
    "##### Majority Vote"
   ]
  },
  {
   "cell_type": "markdown",
   "id": "228b6a64-2268-4116-815a-5eeb397b6dc6",
   "metadata": {},
   "source": [
    "Set the `config.encode_label` variable to \"ohe\", that the optimization process is done for approach with one-hot-encoding for the label decoding.\n",
    "\n",
    "Values of the last epoch of the last trial run:\n",
    "```\n",
    "EPOCH 10/10: TRAIN loss > 0.873 \t accuracy > 0.644 \t AUROC > 0.544 | VAL loss > 0.877 \t accuracy > 0.617 \t AUROC > 0.616\n",
    "```\n",
    "\n",
    "Best optimal trial:\n",
    "```\n",
    "Best is trial 1 with value: 0.6962499618530273.\n",
    "```"
   ]
  },
  {
   "cell_type": "code",
   "execution_count": 3,
   "id": "75d22bcd-dae7-4ceb-90bd-71eeeb1ce2a4",
   "metadata": {
    "scrolled": true
   },
   "outputs": [
    {
     "name": "stderr",
     "output_type": "stream",
     "text": [
      "[I 2025-04-22 13:36:02,956] A new study created in RDB with name: demo_rgb_darker_ohe\n"
     ]
    },
    {
     "name": "stdout",
     "output_type": "stream",
     "text": [
      "PARAMETER: 3 | 0.0004370861069626262 | 9.507143064099161e-05 | efficientnetB2 | 0.839196365086843\n",
      "Device defined as cuda:0\n"
     ]
    },
    {
     "name": "stderr",
     "output_type": "stream",
     "text": [
      "100%|███████████████████████████████████████████████████████████████████████████████████████████████████████████████████████████████████████████████████████████| 18/18 [00:00<00:00, 14154.01it/s]\n",
      "100%|█████████████████████████████████████████████████████████████████████████████████████████████████████████████████████████████████████████████████████████████| 6/6 [00:00<00:00, 14019.96it/s]\n"
     ]
    },
    {
     "name": "stdout",
     "output_type": "stream",
     "text": [
      "EPOCH 1/10: TRAIN loss > 1.077 \t accuracy > 0.389 \t AUROC > 0.389 | VAL loss > 1.004 \t accuracy > 0.833 \t AUROC > 0.833\n",
      "EPOCH 2/10: TRAIN loss > 0.981 \t accuracy > 0.528 \t AUROC > 0.477 | VAL loss > 0.975 \t accuracy > 0.833 \t AUROC > 0.792\n",
      "EarlyStopping Counter: 1 out of 15\n",
      "EPOCH 3/10: TRAIN loss > 0.846 \t accuracy > 0.648 \t AUROC > 0.63 | VAL loss > 0.881 \t accuracy > 0.778 \t AUROC > 0.787\n",
      "EPOCH 4/10: TRAIN loss > 0.843 \t accuracy > 0.667 \t AUROC > 0.646 | VAL loss > 0.785 \t accuracy > 0.792 \t AUROC > 0.779\n",
      "EPOCH 5/10: TRAIN loss > 0.706 \t accuracy > 0.722 \t AUROC > 0.705 | VAL loss > 0.815 \t accuracy > 0.767 \t AUROC > 0.743\n",
      "EPOCH 6/10: TRAIN loss > 0.788 \t accuracy > 0.731 \t AUROC > 0.71 | VAL loss > 0.847 \t accuracy > 0.778 \t AUROC > 0.726\n",
      "EPOCH 7/10: TRAIN loss > 0.829 \t accuracy > 0.738 \t AUROC > 0.701 | VAL loss > 0.826 \t accuracy > 0.786 \t AUROC > 0.712\n",
      "EarlyStopping Counter: 1 out of 15\n",
      "EPOCH 8/10: TRAIN loss > 0.65 \t accuracy > 0.771 \t AUROC > 0.726 | VAL loss > 0.769 \t accuracy > 0.792 \t AUROC > 0.71\n",
      "EPOCH 9/10: TRAIN loss > 0.697 \t accuracy > 0.784 \t AUROC > 0.736 | VAL loss > 0.925 \t accuracy > 0.759 \t AUROC > 0.687\n",
      "EPOCH 10/10: TRAIN loss > 0.665 \t accuracy > 0.8 \t AUROC > 0.746 | VAL loss > 0.922 \t accuracy > 0.733 \t AUROC > 0.67\n"
     ]
    },
    {
     "name": "stderr",
     "output_type": "stream",
     "text": [
      "[I 2025-04-22 13:36:14,435] Trial 0 finished with value: 0.6700000166893005 and parameters: {'lr': 0.0004370861069626262, 'wd': 9.507143064099161e-05, 'sampling': 0.839196365086843, 'batch_size': 3, 'weight_melanom': 1, 'weight_insitu': 1}. Best is trial 0 with value: 0.6700000166893005.\n"
     ]
    },
    {
     "name": "stdout",
     "output_type": "stream",
     "text": [
      "PARAMETER: 4 | 0.00015227525095137952 | 8.661761457749353e-05 | efficientnetB2 | 0.7606690070459252\n",
      "Device defined as cuda:0\n"
     ]
    },
    {
     "name": "stderr",
     "output_type": "stream",
     "text": [
      "100%|████████████████████████████████████████████████████████████████████████████████████████████████████████████████████████████████████████████████████████████| 18/18 [00:00<00:00, 4861.40it/s]\n",
      "100%|██████████████████████████████████████████████████████████████████████████████████████████████████████████████████████████████████████████████████████████████| 6/6 [00:00<00:00, 7548.24it/s]\n"
     ]
    },
    {
     "name": "stdout",
     "output_type": "stream",
     "text": [
      "EPOCH 1/10: TRAIN loss > 1.1 \t accuracy > 0.556 \t AUROC > 0.444 | VAL loss > 1.055 \t accuracy > 0.5 \t AUROC > 0.75\n",
      "EPOCH 2/10: TRAIN loss > 1.034 \t accuracy > 0.667 \t AUROC > 0.569 | VAL loss > 1.047 \t accuracy > 0.583 \t AUROC > 0.708\n",
      "EPOCH 3/10: TRAIN loss > 0.993 \t accuracy > 0.722 \t AUROC > 0.659 | VAL loss > 1.042 \t accuracy > 0.611 \t AUROC > 0.676\n",
      "EPOCH 4/10: TRAIN loss > 0.973 \t accuracy > 0.722 \t AUROC > 0.66 | VAL loss > 1.035 \t accuracy > 0.542 \t AUROC > 0.63\n",
      "EPOCH 5/10: TRAIN loss > 0.954 \t accuracy > 0.744 \t AUROC > 0.675 | VAL loss > 1.018 \t accuracy > 0.533 \t AUROC > 0.617\n",
      "EarlyStopping Counter: 1 out of 15\n",
      "EPOCH 6/10: TRAIN loss > 0.853 \t accuracy > 0.787 \t AUROC > 0.713 | VAL loss > 1.0 \t accuracy > 0.556 \t AUROC > 0.634\n",
      "EPOCH 7/10: TRAIN loss > 0.834 \t accuracy > 0.794 \t AUROC > 0.723 | VAL loss > 0.99 \t accuracy > 0.571 \t AUROC > 0.644\n",
      "EPOCH 8/10: TRAIN loss > 0.8 \t accuracy > 0.806 \t AUROC > 0.735 | VAL loss > 0.957 \t accuracy > 0.604 \t AUROC > 0.66\n",
      "EPOCH 9/10: TRAIN loss > 0.765 \t accuracy > 0.815 \t AUROC > 0.746 | VAL loss > 0.939 \t accuracy > 0.63 \t AUROC > 0.677\n"
     ]
    },
    {
     "name": "stderr",
     "output_type": "stream",
     "text": [
      "[I 2025-04-22 13:36:24,265] Trial 1 finished with value: 0.6962499618530273 and parameters: {'lr': 0.00015227525095137952, 'wd': 8.661761457749353e-05, 'sampling': 0.7606690070459252, 'batch_size': 4, 'weight_melanom': 1, 'weight_insitu': 5}. Best is trial 1 with value: 0.6962499618530273.\n"
     ]
    },
    {
     "name": "stdout",
     "output_type": "stream",
     "text": [
      "EPOCH 10/10: TRAIN loss > 0.747 \t accuracy > 0.828 \t AUROC > 0.756 | VAL loss > 0.89 \t accuracy > 0.667 \t AUROC > 0.696\n",
      "PARAMETER: 1 | 0.0008491983767203796 | 2.1233911067827617e-05 | efficientnetB2 | 0.5090949803242604\n",
      "Device defined as cuda:0\n"
     ]
    },
    {
     "name": "stderr",
     "output_type": "stream",
     "text": [
      "100%|████████████████████████████████████████████████████████████████████████████████████████████████████████████████████████████████████████████████████████████| 18/18 [00:00<00:00, 6723.44it/s]\n",
      "100%|██████████████████████████████████████████████████████████████████████████████████████████████████████████████████████████████████████████████████████████████| 6/6 [00:00<00:00, 6247.72it/s]\n"
     ]
    },
    {
     "name": "stdout",
     "output_type": "stream",
     "text": [
      "EPOCH 1/10: TRAIN loss > 1.007 \t accuracy > 0.444 \t AUROC > 0.398 | VAL loss > 0.878 \t accuracy > 0.667 \t AUROC > 0.75\n",
      "EPOCH 2/10: TRAIN loss > 0.888 \t accuracy > 0.556 \t AUROC > 0.422 | VAL loss > 0.813 \t accuracy > 0.667 \t AUROC > 0.75\n",
      "EarlyStopping Counter: 1 out of 15\n",
      "EPOCH 3/10: TRAIN loss > 0.884 \t accuracy > 0.593 \t AUROC > 0.481 | VAL loss > 0.859 \t accuracy > 0.667 \t AUROC > 0.699\n",
      "EarlyStopping Counter: 2 out of 15\n",
      "EPOCH 4/10: TRAIN loss > 0.882 \t accuracy > 0.611 \t AUROC > 0.515 | VAL loss > 0.873 \t accuracy > 0.667 \t AUROC > 0.682\n",
      "EarlyStopping Counter: 3 out of 15\n",
      "EPOCH 5/10: TRAIN loss > 0.882 \t accuracy > 0.622 \t AUROC > 0.537 | VAL loss > 0.966 \t accuracy > 0.667 \t AUROC > 0.64\n",
      "EarlyStopping Counter: 4 out of 15\n",
      "EPOCH 6/10: TRAIN loss > 0.879 \t accuracy > 0.63 \t AUROC > 0.551 | VAL loss > 0.877 \t accuracy > 0.667 \t AUROC > 0.627\n",
      "EarlyStopping Counter: 5 out of 15\n",
      "EPOCH 7/10: TRAIN loss > 0.886 \t accuracy > 0.635 \t AUROC > 0.54 | VAL loss > 1.112 \t accuracy > 0.595 \t AUROC > 0.593\n",
      "EPOCH 8/10: TRAIN loss > 0.89 \t accuracy > 0.639 \t AUROC > 0.531 | VAL loss > 0.963 \t accuracy > 0.583 \t AUROC > 0.602\n",
      "EPOCH 9/10: TRAIN loss > 0.873 \t accuracy > 0.642 \t AUROC > 0.536 | VAL loss > 0.864 \t accuracy > 0.593 \t AUROC > 0.61\n",
      "EarlyStopping Counter: 1 out of 15\n"
     ]
    },
    {
     "name": "stderr",
     "output_type": "stream",
     "text": [
      "[I 2025-04-22 13:36:39,114] Trial 2 finished with value: 0.6158333420753479 and parameters: {'lr': 0.0008491983767203796, 'wd': 2.1233911067827617e-05, 'sampling': 0.5090949803242604, 'batch_size': 1, 'weight_melanom': 1, 'weight_insitu': 3}. Best is trial 1 with value: 0.6962499618530273.\n"
     ]
    },
    {
     "name": "stdout",
     "output_type": "stream",
     "text": [
      "EPOCH 10/10: TRAIN loss > 0.873 \t accuracy > 0.644 \t AUROC > 0.544 | VAL loss > 0.877 \t accuracy > 0.617 \t AUROC > 0.616\n"
     ]
    }
   ],
   "source": [
    "config.encode_label = \"ohe\" \n",
    "args = set_hyperparameter_demo(args, config.preprocess, config.encode_label)\n",
    "\n",
    "# set the hyperparameter \n",
    "args.optimize = True\n",
    "args.trials = 3\n",
    "\n",
    "sampler = optuna.samplers.RandomSampler(seed=42)\n",
    "optuna.seed = 42\n",
    "fix_randomness(args.seed)\n",
    "\n",
    "pruner = optuna.pruners.NopPruner()\n",
    "study = optuna.create_study(direction=\"maximize\", storage=config.local_path,\n",
    "                            study_name=f\"demo_{config.preprocess}_{config.encode_label}\",\n",
    "                            load_if_exists=True, sampler=sampler, pruner=pruner)\n",
    "\n",
    "study.optimize(lambda trial: train_setup.objective(trial, args), n_trials=args.trials, timeout=None)\n",
    "\n",
    "joblib.dump(study, os.path.join(get_saving_path(args), \"study\" +\".pkl\"))\n",
    "study.trials_dataframe().to_csv(os.path.join(get_saving_path(args), \"trials\" +\".csv\"))"
   ]
  },
  {
   "cell_type": "markdown",
   "id": "68a9e106-b304-4e64-b369-46e25656341d",
   "metadata": {},
   "source": [
    "##### Soft-labels"
   ]
  },
  {
   "cell_type": "markdown",
   "id": "9bc5d71b-0fc4-4e84-be4d-5729e8e57b8a",
   "metadata": {},
   "source": [
    "Set the `config.encode_label` variable to \"sl\", that the optimization process is done for approach with soft label for the label decoding.\n",
    "\n",
    "Values of the last epoch of the last trial run:\n",
    "```\n",
    "EPOCH 10/10: TRAIN loss > 1.104 \t accuracy > 0.656 \t AUROC > 0.56 | VAL loss > 1.357 \t accuracy > 0.4 \t AUROC > 0.442\n",
    "```\n",
    "\n",
    "Best optimal trial:\n",
    "```\n",
    "Best is trial 0 with value: 0.6416666507720947.\n",
    "```"
   ]
  },
  {
   "cell_type": "code",
   "execution_count": 4,
   "id": "eeffdd16-b978-4d45-985f-c1ac2134e4ad",
   "metadata": {
    "scrolled": true
   },
   "outputs": [
    {
     "name": "stderr",
     "output_type": "stream",
     "text": [
      "[I 2025-04-22 13:37:11,857] A new study created in RDB with name: demo_rgb_darker_sl\n"
     ]
    },
    {
     "name": "stdout",
     "output_type": "stream",
     "text": [
      "PARAMETER: 3 | 0.0004370861069626262 | 9.507143064099161e-05 | efficientnetB2 | 0.839196365086843\n",
      "Device defined as cuda:0\n"
     ]
    },
    {
     "name": "stderr",
     "output_type": "stream",
     "text": [
      "100%|████████████████████████████████████████████████████████████████████████████████████████████████████████████████████████████████████████████████████████████| 18/18 [00:00<00:00, 3549.15it/s]\n",
      "100%|██████████████████████████████████████████████████████████████████████████████████████████████████████████████████████████████████████████████████████████████| 6/6 [00:00<00:00, 2772.18it/s]\n"
     ]
    },
    {
     "name": "stdout",
     "output_type": "stream",
     "text": [
      "EPOCH 1/10: TRAIN loss > 1.08 \t accuracy > 0.389 \t AUROC > 0.407 | VAL loss > 1.036 \t accuracy > 0.833 \t AUROC > 0.75\n",
      "EPOCH 2/10: TRAIN loss > 1.003 \t accuracy > 0.528 \t AUROC > 0.49 | VAL loss > 1.016 \t accuracy > 0.75 \t AUROC > 0.698\n",
      "EPOCH 3/10: TRAIN loss > 0.896 \t accuracy > 0.63 \t AUROC > 0.624 | VAL loss > 0.955 \t accuracy > 0.722 \t AUROC > 0.639\n",
      "EPOCH 4/10: TRAIN loss > 0.912 \t accuracy > 0.653 \t AUROC > 0.644 | VAL loss > 0.909 \t accuracy > 0.708 \t AUROC > 0.661\n",
      "EPOCH 5/10: TRAIN loss > 0.812 \t accuracy > 0.711 \t AUROC > 0.7 | VAL loss > 0.921 \t accuracy > 0.7 \t AUROC > 0.663\n",
      "EarlyStopping Counter: 1 out of 15\n",
      "EPOCH 6/10: TRAIN loss > 0.876 \t accuracy > 0.722 \t AUROC > 0.693 | VAL loss > 0.92 \t accuracy > 0.722 \t AUROC > 0.667\n",
      "EPOCH 7/10: TRAIN loss > 0.931 \t accuracy > 0.698 \t AUROC > 0.676 | VAL loss > 0.892 \t accuracy > 0.738 \t AUROC > 0.67\n",
      "EPOCH 8/10: TRAIN loss > 0.751 \t accuracy > 0.729 \t AUROC > 0.704 | VAL loss > 0.873 \t accuracy > 0.75 \t AUROC > 0.677\n",
      "EPOCH 9/10: TRAIN loss > 0.825 \t accuracy > 0.741 \t AUROC > 0.709 | VAL loss > 0.944 \t accuracy > 0.741 \t AUROC > 0.662\n",
      "EarlyStopping Counter: 1 out of 15\n"
     ]
    },
    {
     "name": "stderr",
     "output_type": "stream",
     "text": [
      "[I 2025-04-22 13:37:21,230] Trial 0 finished with value: 0.6416666507720947 and parameters: {'lr': 0.0004370861069626262, 'wd': 9.507143064099161e-05, 'sampling': 0.839196365086843, 'batch_size': 3, 'weight_melanom': 1, 'weight_insitu': 1}. Best is trial 0 with value: 0.6416666507720947.\n"
     ]
    },
    {
     "name": "stdout",
     "output_type": "stream",
     "text": [
      "EPOCH 10/10: TRAIN loss > 0.823 \t accuracy > 0.756 \t AUROC > 0.72 | VAL loss > 1.015 \t accuracy > 0.717 \t AUROC > 0.642\n",
      "PARAMETER: 4 | 0.00015227525095137952 | 8.661761457749353e-05 | efficientnetB2 | 0.7606690070459252\n",
      "Device defined as cuda:0\n"
     ]
    },
    {
     "name": "stderr",
     "output_type": "stream",
     "text": [
      "100%|████████████████████████████████████████████████████████████████████████████████████████████████████████████████████████████████████████████████████████████| 18/18 [00:00<00:00, 3343.56it/s]\n",
      "100%|██████████████████████████████████████████████████████████████████████████████████████████████████████████████████████████████████████████████████████████████| 6/6 [00:00<00:00, 2545.86it/s]\n"
     ]
    },
    {
     "name": "stdout",
     "output_type": "stream",
     "text": [
      "EPOCH 1/10: TRAIN loss > 1.454 \t accuracy > 0.389 \t AUROC > 0.435 | VAL loss > 1.442 \t accuracy > 0.5 \t AUROC > 0.708\n",
      "EPOCH 2/10: TRAIN loss > 1.401 \t accuracy > 0.528 \t AUROC > 0.589 | VAL loss > 1.441 \t accuracy > 0.5 \t AUROC > 0.688\n",
      "EarlyStopping Counter: 1 out of 15\n",
      "EPOCH 3/10: TRAIN loss > 1.382 \t accuracy > 0.574 \t AUROC > 0.673 | VAL loss > 1.441 \t accuracy > 0.556 \t AUROC > 0.648\n",
      "EPOCH 4/10: TRAIN loss > 1.38 \t accuracy > 0.611 \t AUROC > 0.671 | VAL loss > 1.444 \t accuracy > 0.542 \t AUROC > 0.607\n",
      "EPOCH 5/10: TRAIN loss > 1.407 \t accuracy > 0.644 \t AUROC > 0.685 | VAL loss > 1.44 \t accuracy > 0.567 \t AUROC > 0.587\n",
      "EPOCH 6/10: TRAIN loss > 1.329 \t accuracy > 0.685 \t AUROC > 0.711 | VAL loss > 1.436 \t accuracy > 0.583 \t AUROC > 0.59\n",
      "EPOCH 7/10: TRAIN loss > 1.331 \t accuracy > 0.706 \t AUROC > 0.726 | VAL loss > 1.436 \t accuracy > 0.595 \t AUROC > 0.585\n",
      "EPOCH 8/10: TRAIN loss > 1.315 \t accuracy > 0.722 \t AUROC > 0.739 | VAL loss > 1.432 \t accuracy > 0.604 \t AUROC > 0.587\n",
      "EarlyStopping Counter: 1 out of 15\n",
      "EPOCH 9/10: TRAIN loss > 1.28 \t accuracy > 0.741 \t AUROC > 0.752 | VAL loss > 1.434 \t accuracy > 0.611 \t AUROC > 0.586\n"
     ]
    },
    {
     "name": "stderr",
     "output_type": "stream",
     "text": [
      "[I 2025-04-22 13:37:30,734] Trial 1 finished with value: 0.5891667008399963 and parameters: {'lr': 0.00015227525095137952, 'wd': 8.661761457749353e-05, 'sampling': 0.7606690070459252, 'batch_size': 4, 'weight_melanom': 1, 'weight_insitu': 5}. Best is trial 0 with value: 0.6416666507720947.\n"
     ]
    },
    {
     "name": "stdout",
     "output_type": "stream",
     "text": [
      "EPOCH 10/10: TRAIN loss > 1.248 \t accuracy > 0.756 \t AUROC > 0.761 | VAL loss > 1.425 \t accuracy > 0.633 \t AUROC > 0.589\n",
      "PARAMETER: 1 | 0.0008491983767203796 | 2.1233911067827617e-05 | efficientnetB2 | 0.5090949803242604\n",
      "Device defined as cuda:0\n"
     ]
    },
    {
     "name": "stderr",
     "output_type": "stream",
     "text": [
      "100%|████████████████████████████████████████████████████████████████████████████████████████████████████████████████████████████████████████████████████████████| 18/18 [00:00<00:00, 3824.01it/s]\n",
      "100%|██████████████████████████████████████████████████████████████████████████████████████████████████████████████████████████████████████████████████████████████| 6/6 [00:00<00:00, 4180.37it/s]\n"
     ]
    },
    {
     "name": "stdout",
     "output_type": "stream",
     "text": [
      "EPOCH 1/10: TRAIN loss > 1.232 \t accuracy > 0.444 \t AUROC > 0.375 | VAL loss > 1.232 \t accuracy > 0.667 \t AUROC > 0.5\n",
      "EPOCH 2/10: TRAIN loss > 1.187 \t accuracy > 0.556 \t AUROC > 0.403 | VAL loss > 1.266 \t accuracy > 0.667 \t AUROC > 0.333\n",
      "EarlyStopping Counter: 1 out of 15\n",
      "EPOCH 3/10: TRAIN loss > 1.168 \t accuracy > 0.593 \t AUROC > 0.465 | VAL loss > 1.252 \t accuracy > 0.611 \t AUROC > 0.356\n",
      "EPOCH 4/10: TRAIN loss > 1.17 \t accuracy > 0.611 \t AUROC > 0.49 | VAL loss > 1.273 \t accuracy > 0.583 \t AUROC > 0.372\n",
      "EPOCH 5/10: TRAIN loss > 1.173 \t accuracy > 0.622 \t AUROC > 0.493 | VAL loss > 1.29 \t accuracy > 0.533 \t AUROC > 0.383\n",
      "EPOCH 6/10: TRAIN loss > 1.17 \t accuracy > 0.63 \t AUROC > 0.494 | VAL loss > 1.213 \t accuracy > 0.556 \t AUROC > 0.422\n",
      "EPOCH 7/10: TRAIN loss > 1.152 \t accuracy > 0.635 \t AUROC > 0.503 | VAL loss > 1.298 \t accuracy > 0.524 \t AUROC > 0.428\n",
      "EPOCH 8/10: TRAIN loss > 1.157 \t accuracy > 0.639 \t AUROC > 0.519 | VAL loss > 1.337 \t accuracy > 0.479 \t AUROC > 0.431\n",
      "EPOCH 9/10: TRAIN loss > 1.12 \t accuracy > 0.642 \t AUROC > 0.533 | VAL loss > 1.323 \t accuracy > 0.444 \t AUROC > 0.438\n"
     ]
    },
    {
     "name": "stderr",
     "output_type": "stream",
     "text": [
      "[I 2025-04-22 13:37:44,104] Trial 2 finished with value: 0.44166669249534607 and parameters: {'lr': 0.0008491983767203796, 'wd': 2.1233911067827617e-05, 'sampling': 0.5090949803242604, 'batch_size': 1, 'weight_melanom': 1, 'weight_insitu': 3}. Best is trial 0 with value: 0.6416666507720947.\n"
     ]
    },
    {
     "name": "stdout",
     "output_type": "stream",
     "text": [
      "EPOCH 10/10: TRAIN loss > 1.104 \t accuracy > 0.656 \t AUROC > 0.56 | VAL loss > 1.357 \t accuracy > 0.4 \t AUROC > 0.442\n"
     ]
    }
   ],
   "source": [
    "config.encode_label = \"sl\" \n",
    "args = set_hyperparameter_demo(args, config.preprocess, config.encode_label)\n",
    "\n",
    "args.optimize = True\n",
    "args.trials = 3\n",
    "\n",
    "sampler = optuna.samplers.RandomSampler(seed=42)\n",
    "optuna.seed = 42\n",
    "fix_randomness(args.seed)\n",
    "\n",
    "pruner = optuna.pruners.NopPruner()\n",
    "study = optuna.create_study(direction=\"maximize\", storage=config.local_path,\n",
    "                            study_name=f\"demo_{config.preprocess}_{config.encode_label}\",\n",
    "                            load_if_exists=True, sampler=sampler, pruner=pruner)\n",
    "\n",
    "study.optimize(lambda trial: train_setup.objective(trial, args), n_trials=args.trials, timeout=None)\n",
    "\n",
    "joblib.dump(study, os.path.join(get_saving_path(args), \"study\" +\".pkl\"))\n",
    "study.trials_dataframe().to_csv(os.path.join(get_saving_path(args), \"trials\" +\".csv\"))"
   ]
  },
  {
   "cell_type": "markdown",
   "id": "04f97c16-b913-4780-bf41-1e1ebf3f8694",
   "metadata": {},
   "source": [
    "#### Train model with our hyperparameter"
   ]
  },
  {
   "cell_type": "markdown",
   "id": "7c46d5bb-3809-494e-9677-284dfe87f04d",
   "metadata": {},
   "source": [
    "Load the optimized hyperparameter for the expert-knowledge classifier and train the small example."
   ]
  },
  {
   "cell_type": "markdown",
   "id": "cd513c0c-66ed-4ded-a21c-5373d36dc9c5",
   "metadata": {},
   "source": [
    "##### Majority vote"
   ]
  },
  {
   "cell_type": "markdown",
   "id": "85b55b52-c01b-4351-b728-004376dfbe49",
   "metadata": {},
   "source": [
    "Set the `config.encode_label` variable to \"ohe\", that the training process is done for approach with one-hot-encoding for the label decoding.\n",
    "\n",
    "Values of the last epochs of the small training:\n",
    "```\n",
    "EPOCH 8/10: TRAIN loss > 0.996 \t accuracy > 0.785 \t AUROC > 0.752 | VAL loss > 1.348 \t accuracy > 0.562 \t AUROC > 0.624\n",
    "EPOCH 9/10: TRAIN loss > 0.972 \t accuracy > 0.796 \t AUROC > 0.765 | VAL loss > 1.348 \t accuracy > 0.537 \t AUROC > 0.609\n",
    "EPOCH 10/10: TRAIN loss > 1.112 \t accuracy > 0.789 \t AUROC > 0.753 | VAL loss > 1.365 \t accuracy > 0.517 \t AUROC > 0.587\n",
    "```"
   ]
  },
  {
   "cell_type": "code",
   "execution_count": 5,
   "id": "e57962b2-4c21-438c-93ea-6f1d569168f7",
   "metadata": {
    "scrolled": true
   },
   "outputs": [
    {
     "name": "stdout",
     "output_type": "stream",
     "text": [
      "Device defined as cuda:0\n"
     ]
    },
    {
     "name": "stderr",
     "output_type": "stream",
     "text": [
      "100%|████████████████████████████████████████████████████████████████████████████████████████████████████████████████████████████████████████████████████████████| 18/18 [00:00<00:00, 7888.97it/s]\n",
      "100%|██████████████████████████████████████████████████████████████████████████████████████████████████████████████████████████████████████████████████████████████| 6/6 [00:00<00:00, 7832.50it/s]\n"
     ]
    },
    {
     "name": "stdout",
     "output_type": "stream",
     "text": [
      "EPOCH 1/10: TRAIN loss > 1.52 \t accuracy > 0.444 \t AUROC > 0.435 | VAL loss > 1.41 \t accuracy > 0.667 \t AUROC > 0.75\n",
      "EPOCH 2/10: TRAIN loss > 1.378 \t accuracy > 0.528 \t AUROC > 0.519 | VAL loss > 1.398 \t accuracy > 0.667 \t AUROC > 0.719\n",
      "EarlyStopping Counter: 1 out of 15\n",
      "EPOCH 3/10: TRAIN loss > 1.348 \t accuracy > 0.593 \t AUROC > 0.602 | VAL loss > 1.387 \t accuracy > 0.667 \t AUROC > 0.708\n",
      "EarlyStopping Counter: 2 out of 15\n",
      "EPOCH 4/10: TRAIN loss > 1.334 \t accuracy > 0.639 \t AUROC > 0.635 | VAL loss > 1.371 \t accuracy > 0.667 \t AUROC > 0.701\n",
      "EarlyStopping Counter: 3 out of 15\n",
      "EPOCH 5/10: TRAIN loss > 1.277 \t accuracy > 0.7 \t AUROC > 0.679 | VAL loss > 1.37 \t accuracy > 0.633 \t AUROC > 0.673\n",
      "EPOCH 6/10: TRAIN loss > 1.262 \t accuracy > 0.722 \t AUROC > 0.703 | VAL loss > 1.36 \t accuracy > 0.611 \t AUROC > 0.655\n",
      "EPOCH 7/10: TRAIN loss > 1.078 \t accuracy > 0.762 \t AUROC > 0.732 | VAL loss > 1.358 \t accuracy > 0.595 \t AUROC > 0.639\n",
      "EPOCH 8/10: TRAIN loss > 0.996 \t accuracy > 0.785 \t AUROC > 0.752 | VAL loss > 1.348 \t accuracy > 0.562 \t AUROC > 0.624\n",
      "EPOCH 9/10: TRAIN loss > 0.972 \t accuracy > 0.796 \t AUROC > 0.765 | VAL loss > 1.348 \t accuracy > 0.537 \t AUROC > 0.609\n",
      "EPOCH 10/10: TRAIN loss > 1.112 \t accuracy > 0.789 \t AUROC > 0.753 | VAL loss > 1.365 \t accuracy > 0.517 \t AUROC > 0.587\n"
     ]
    },
    {
     "data": {
      "text/plain": [
       "<DermaClassifier.trainers.trainer.Trainer at 0x75790492e090>"
      ]
     },
     "execution_count": 5,
     "metadata": {},
     "output_type": "execute_result"
    }
   ],
   "source": [
    "config.encode_label = \"ohe\" \n",
    "args = set_hyperparameter_demo(args, config.preprocess, config.encode_label)\n",
    "args.batch_size = 5\n",
    "\n",
    "train_setup.train(args, weight_loss=hp.weight_loss(config.preprocess, config.encode))"
   ]
  },
  {
   "cell_type": "markdown",
   "id": "c9714716-a2f5-4cd5-9def-09718984314c",
   "metadata": {},
   "source": [
    "##### Softlabel"
   ]
  },
  {
   "cell_type": "markdown",
   "id": "00f62b80-a01b-428f-ac51-2e3fb5399279",
   "metadata": {},
   "source": [
    "Set the `config.encode_label` variable to \"sl\", that the training process is done for approach with soft labels for the label decoding.\n",
    "\n",
    "Values of the last epochs of the small training:\n",
    "```\n",
    "EPOCH 8/10: TRAIN loss > 1.244 \t accuracy > 0.743 \t AUROC > 0.705 | VAL loss > 1.412 \t accuracy > 0.479 \t AUROC > 0.505\n",
    "EarlyStopping Counter: 1 out of 15\n",
    "EPOCH 9/10: TRAIN loss > 1.242 \t accuracy > 0.741 \t AUROC > 0.71 | VAL loss > 1.41 \t accuracy > 0.481 \t AUROC > 0.493\n",
    "EarlyStopping Counter: 2 out of 15\n",
    "EPOCH 10/10: TRAIN loss > 1.228 \t accuracy > 0.744 \t AUROC > 0.72 | VAL loss > 1.41 \t accuracy > 0.483 \t AUROC > 0.482\n",
    "EarlyStopping Counter: 3 out of 15\n",
    "```"
   ]
  },
  {
   "cell_type": "code",
   "execution_count": 6,
   "id": "1e38829e-d102-4136-a2b1-7d5a0dfd957c",
   "metadata": {
    "scrolled": true
   },
   "outputs": [
    {
     "name": "stdout",
     "output_type": "stream",
     "text": [
      "Device defined as cuda:0\n"
     ]
    },
    {
     "name": "stderr",
     "output_type": "stream",
     "text": [
      "100%|████████████████████████████████████████████████████████████████████████████████████████████████████████████████████████████████████████████████████████████| 18/18 [00:00<00:00, 3983.62it/s]\n",
      "100%|██████████████████████████████████████████████████████████████████████████████████████████████████████████████████████████████████████████████████████████████| 6/6 [00:00<00:00, 4451.76it/s]\n"
     ]
    },
    {
     "name": "stdout",
     "output_type": "stream",
     "text": [
      "EPOCH 1/10: TRAIN loss > 1.489 \t accuracy > 0.444 \t AUROC > 0.477 | VAL loss > 1.431 \t accuracy > 0.5 \t AUROC > 0.708\n",
      "EPOCH 2/10: TRAIN loss > 1.366 \t accuracy > 0.611 \t AUROC > 0.598 | VAL loss > 1.43 \t accuracy > 0.583 \t AUROC > 0.667\n",
      "EPOCH 3/10: TRAIN loss > 1.398 \t accuracy > 0.722 \t AUROC > 0.656 | VAL loss > 1.425 \t accuracy > 0.556 \t AUROC > 0.639\n",
      "EPOCH 4/10: TRAIN loss > 1.389 \t accuracy > 0.694 \t AUROC > 0.65 | VAL loss > 1.423 \t accuracy > 0.542 \t AUROC > 0.591\n",
      "EPOCH 5/10: TRAIN loss > 1.417 \t accuracy > 0.7 \t AUROC > 0.659 | VAL loss > 1.422 \t accuracy > 0.533 \t AUROC > 0.555\n",
      "EarlyStopping Counter: 1 out of 15\n",
      "EPOCH 6/10: TRAIN loss > 1.32 \t accuracy > 0.731 \t AUROC > 0.681 | VAL loss > 1.412 \t accuracy > 0.5 \t AUROC > 0.529\n",
      "EPOCH 7/10: TRAIN loss > 1.259 \t accuracy > 0.738 \t AUROC > 0.69 | VAL loss > 1.412 \t accuracy > 0.476 \t AUROC > 0.514\n",
      "EPOCH 8/10: TRAIN loss > 1.244 \t accuracy > 0.743 \t AUROC > 0.705 | VAL loss > 1.412 \t accuracy > 0.479 \t AUROC > 0.505\n",
      "EarlyStopping Counter: 1 out of 15\n",
      "EPOCH 9/10: TRAIN loss > 1.242 \t accuracy > 0.741 \t AUROC > 0.71 | VAL loss > 1.41 \t accuracy > 0.481 \t AUROC > 0.493\n",
      "EarlyStopping Counter: 2 out of 15\n",
      "EPOCH 10/10: TRAIN loss > 1.228 \t accuracy > 0.744 \t AUROC > 0.72 | VAL loss > 1.41 \t accuracy > 0.483 \t AUROC > 0.482\n",
      "EarlyStopping Counter: 3 out of 15\n"
     ]
    },
    {
     "data": {
      "text/plain": [
       "<DermaClassifier.trainers.trainer.Trainer at 0x757904918b50>"
      ]
     },
     "execution_count": 6,
     "metadata": {},
     "output_type": "execute_result"
    }
   ],
   "source": [
    "config.encode_label = \"sl\" \n",
    "args = set_hyperparameter_demo(args, config.preprocess, config.encode_label)\n",
    "args.batch_size = 4\n",
    "\n",
    "train_setup.train(args, weight_loss=hp.weight_loss(config.preprocess, config.encode))"
   ]
  },
  {
   "cell_type": "markdown",
   "id": "a2be9091-2b2f-4d00-a484-b9b0ab750ed3",
   "metadata": {},
   "source": [
    "### Prediction"
   ]
  },
  {
   "cell_type": "code",
   "execution_count": 7,
   "id": "6fb28886-a326-4f89-b80b-5a13ddf40e7c",
   "metadata": {},
   "outputs": [],
   "source": [
    "parser = argparse.ArgumentParser()\n",
    "args = parser.parse_args('')\n",
    "\n",
    "args.data_path = \"./demo/\"\n",
    "args.demo = True\n",
    "args.images_path = os.path.join(\"demo\", \"data\")\n",
    "config.mask = None"
   ]
  },
  {
   "cell_type": "markdown",
   "id": "5571cba7-88f5-49e3-b21f-a27ab4d335fe",
   "metadata": {},
   "source": [
    "#### Majority vote"
   ]
  },
  {
   "cell_type": "markdown",
   "id": "dc80f85c-afbc-47fb-8065-3da3726be2ba",
   "metadata": {},
   "source": [
    "Get the predictions for the demonstration dataset with our pre-trained model for the majority vote (one-hot encoding).\n",
    "```\n",
    "Demo accuracy:  0.3333\n",
    "Demo f1:  0.1905\n",
    "Demo bal_accuracy:  nan\n",
    "Demo auroc:  [0.5    0.5    0.625  0.5417]\n",
    "Demo confmatrix:  [[0.0, 1.0, 1.0], [0.0, 0.0, 0.0], [1.0, 1.0, 2.0]]\n",
    "```"
   ]
  },
  {
   "cell_type": "code",
   "execution_count": 8,
   "id": "b66e938c-113f-4094-9891-70bc6c29db5e",
   "metadata": {},
   "outputs": [
    {
     "name": "stdout",
     "output_type": "stream",
     "text": [
      "Device defined as cuda:0\n"
     ]
    },
    {
     "name": "stderr",
     "output_type": "stream",
     "text": [
      "100%|█████████████████████████████████████████████████████████████████████████████████████████████████████████████████████████████████████████████████████████████| 6/6 [00:00<00:00, 11239.76it/s]\n"
     ]
    },
    {
     "name": "stdout",
     "output_type": "stream",
     "text": [
      "Demo set\n"
     ]
    },
    {
     "name": "stderr",
     "output_type": "stream",
     "text": [
      "6it [00:00,  9.82it/s]\n",
      "WARNING:root:Warning: Some classes do not exist in the target. F1 scores for these classes will be cast to zeros.\n"
     ]
    },
    {
     "name": "stdout",
     "output_type": "stream",
     "text": [
      "Demo accuracy:  0.3333\n",
      "Demo f1:  0.1905\n",
      "Demo bal_accuracy:  nan\n",
      "Demo auroc:  [0.5    0.5    0.625  0.5417]\n",
      "Demo confmatrix:  [[0.0, 1.0, 1.0], [0.0, 0.0, 0.0], [1.0, 1.0, 2.0]]\n"
     ]
    }
   ],
   "source": [
    "config.encode_label = \"ohe\" \n",
    "args.model = \"./weights\" + \"/\" + config.encode_label + \"/\" + config.preprocess\n",
    "\n",
    "results = test_setup(args)"
   ]
  },
  {
   "cell_type": "code",
   "execution_count": 9,
   "id": "1ddf7881-c116-4d43-82fd-3285f56c5fbb",
   "metadata": {},
   "outputs": [
    {
     "data": {
      "image/png": "[encoded data removed]",
      "text/plain": [
       "<Figure size 700x500 with 2 Axes>"
      ]
     },
     "metadata": {},
     "output_type": "display_data"
    }
   ],
   "source": [
    "cm = results[\"confmatrix\"]\n",
    "_, ax_conf_matrix = plt.subplots(figsize=(7, 5))\n",
    "disp = ConfusionMatrixDisplay(np.array(cm), display_labels=['Invasive\\nmelanoma', 'Non-invasive\\nmelanoma', 'Nevus'])\n",
    "disp.plot(ax=ax_conf_matrix, cmap=plt.cm.Blues, values_format='.3g')\n",
    "ax_conf_matrix.set_xlabel('Predicted labels', fontsize=14, labelpad=10)  # X-Achsen-Beschriftung mit Schriftgröße 14\n",
    "ax_conf_matrix.set_ylabel('True labels', fontsize=14, labelpad=10)       # Y-Achsen-Beschriftung mit Schriftgröße 14\n",
    "ax_conf_matrix.set_title('Demo test dataset', fontsize=17) \n",
    "plt.tight_layout(pad=2.0)"
   ]
  },
  {
   "cell_type": "markdown",
   "id": "4ef2aab6-6b6d-4997-a28b-be364d40fb39",
   "metadata": {},
   "source": [
    "#### Softlabel"
   ]
  },
  {
   "cell_type": "markdown",
   "id": "5a5dce12-fa8c-4a21-b50e-85f57efe4ff6",
   "metadata": {},
   "source": [
    "Get the predictions for the demonstration dataset with our pre-trained model for the uncertainty label (soft label).\n",
    "```\n",
    "Demo accuracy:  0.8333\n",
    "Demo f1:  0.7778\n",
    "Demo bal_accuracy:  nan\n",
    "Demo auroc:  [1.   0.5  0.75 0.75]\n",
    "Demo confmatrix:  [[1.0, 0.0, 1.0], [0.0, 0.0, 0.0], [0.0, 0.0, 4.0]]\n",
    "```"
   ]
  },
  {
   "cell_type": "code",
   "execution_count": 10,
   "id": "f14dacf7-e373-4e7e-ad8e-6c3587ad6b7d",
   "metadata": {},
   "outputs": [
    {
     "name": "stdout",
     "output_type": "stream",
     "text": [
      "Device defined as cuda:0\n"
     ]
    },
    {
     "name": "stderr",
     "output_type": "stream",
     "text": [
      "100%|██████████████████████████████████████████████████████████████████████████████████████████████████████████████████████████████████████████████████████████████| 6/6 [00:00<00:00, 5281.39it/s]\n"
     ]
    },
    {
     "name": "stdout",
     "output_type": "stream",
     "text": [
      "Demo set\n"
     ]
    },
    {
     "name": "stderr",
     "output_type": "stream",
     "text": [
      "6it [00:00, 10.68it/s]\n",
      "WARNING:root:Warning: Some classes do not exist in the target. F1 scores for these classes will be cast to zeros.\n"
     ]
    },
    {
     "name": "stdout",
     "output_type": "stream",
     "text": [
      "Demo accuracy:  0.8333\n",
      "Demo f1:  0.7778\n",
      "Demo bal_accuracy:  nan\n",
      "Demo auroc:  [1.   0.5  0.75 0.75]\n",
      "Demo confmatrix:  [[1.0, 0.0, 1.0], [0.0, 0.0, 0.0], [0.0, 0.0, 4.0]]\n"
     ]
    }
   ],
   "source": [
    "config.encode_label = \"sl\" \n",
    "args.model = \"./weights\" + \"/\" + config.encode_label + \"/\" + config.preprocess\n",
    "\n",
    "results = test_setup(args)"
   ]
  },
  {
   "cell_type": "code",
   "execution_count": 11,
   "id": "a0979eb3-ace5-4227-b087-3b0ac005fa78",
   "metadata": {},
   "outputs": [
    {
     "data": {
      "image/png": "[encoded data removed]",
      "text/plain": [
       "<Figure size 700x500 with 2 Axes>"
      ]
     },
     "metadata": {},
     "output_type": "display_data"
    }
   ],
   "source": [
    "cm = results[\"confmatrix\"]\n",
    "_, ax_conf_matrix = plt.subplots(figsize=(7, 5))\n",
    "disp = ConfusionMatrixDisplay(np.array(cm), display_labels=['Invasive\\nmelanoma', 'Non-invasive\\nmelanoma', 'Nevus'])\n",
    "disp.plot(ax=ax_conf_matrix, cmap=plt.cm.Blues, values_format='.3g')\n",
    "ax_conf_matrix.set_xlabel('Predicted labels', fontsize=14, labelpad=10)  # X-Achsen-Beschriftung mit Schriftgröße 14\n",
    "ax_conf_matrix.set_ylabel('True labels', fontsize=14, labelpad=10)       # Y-Achsen-Beschriftung mit Schriftgröße 14\n",
    "ax_conf_matrix.set_title('Demo test dataset', fontsize=17) \n",
    "plt.tight_layout(pad=2.0)"
   ]
  },
  {
   "cell_type": "markdown",
   "id": "0b853edb-00d9-4bd4-b6ff-a5c3ec9709d7",
   "metadata": {},
   "source": [
    "## Results with predictions"
   ]
  },
  {
   "cell_type": "markdown",
   "id": "6a2ff879-99f4-4643-bc43-f1761ab0e95d",
   "metadata": {},
   "source": [
    "Compute the evaluation metrics for all predictions on the test holdout set, external test set, and validation set using all of our models, including those with different preprocessing methods and label encoding strategies for the diagnoses."
   ]
  },
  {
   "cell_type": "code",
   "execution_count": 12,
   "id": "5b72dbd8-47de-4404-9f7d-f55ede9950f3",
   "metadata": {},
   "outputs": [],
   "source": [
    "pred_hold = pd.read_csv(Path(\"predictions\", \"all_predictions\", \"predictions_holdout.csv\"))\n",
    "pred_exte = pd.read_csv(Path(\"predictions\", \"all_predictions\", \"predictions_extern.csv\"))\n",
    "pred_vali = pd.read_csv(Path(\"predictions\", \"all_predictions\", \"predictions_val.csv\"))\n",
    "\n",
    "pred = lambda preprocess, encode: \"{}_{}\".format({\"normal\": \"normal\", \"rgb_darker\": \"darker\", \n",
    "                                                  \"rgb_contrast\": \"contrast\", \"rgb_gray\": \"gray\"}[preprocess],\n",
    "                                                 {\"ohe\": \"majority\", \"sl\": \"softlabel\"}[encode])\n",
    "\n",
    "diagnosis = {\"invasive melanoma\": \"melanoma\", \"non-invasive melanoma\": \"in-situ tumor\",\"nevus\": \"nevus\"}\n",
    "\n",
    "pred_hold.pathoPanel = pred_hold.pathoPanel.apply(lambda row: diagnosis[row])\n",
    "pred_exte.pathoPanel = pred_exte.pathoPanel.apply(lambda row: diagnosis[row])\n",
    "pred_vali.pathoPanel = pred_vali.pathoPanel.apply(lambda row: diagnosis[row])"
   ]
  },
  {
   "cell_type": "markdown",
   "id": "32f9009d-69eb-404b-b832-1b044e184818",
   "metadata": {},
   "source": [
    "### Majority Vote"
   ]
  },
  {
   "cell_type": "code",
   "execution_count": 13,
   "id": "bf937666-315b-4ef7-8776-9e3dd2da1928",
   "metadata": {},
   "outputs": [],
   "source": [
    "config.encode_label = \"ohe\""
   ]
  },
  {
   "cell_type": "markdown",
   "id": "b4b31712-0836-4aba-a92d-2193c5a91b81",
   "metadata": {},
   "source": [
    "#### Darker lesion"
   ]
  },
  {
   "cell_type": "markdown",
   "id": "a42a5591-ba79-4bdf-b917-05e8b9e67e66",
   "metadata": {},
   "source": [
    "Metrics for the predictions made by the model using the darker lesion preprocessing and majority vote encoding of the diagnoses.\n",
    "```\n",
    "{'accuracy': tensor(0.8333),\n",
    " 'confmatrix': tensor([[21.,  1.,  4.],\n",
    "         [ 2.,  7.,  1.],\n",
    "         [ 5.,  2., 47.]]),\n",
    " 'f1': tensor(0.7882),\n",
    " 'auroc': tensor([0.9267, 0.9062, 0.9347]),\n",
    " 'auroc_avg': tensor(0.9225)}\n",
    "```"
   ]
  },
  {
   "cell_type": "code",
   "execution_count": 14,
   "id": "9d04fd55-7213-4cee-b6e6-463a4ef7f681",
   "metadata": {},
   "outputs": [
    {
     "data": {
      "text/plain": [
       "{'accuracy': tensor(0.8333),\n",
       " 'confmatrix': tensor([[21.,  1.,  4.],\n",
       "         [ 2.,  7.,  1.],\n",
       "         [ 5.,  2., 47.]]),\n",
       " 'f1': tensor(0.7882),\n",
       " 'auroc': tensor([0.9267, 0.9062, 0.9347]),\n",
       " 'auroc_avg': tensor(0.9225)}"
      ]
     },
     "execution_count": 14,
     "metadata": {},
     "output_type": "execute_result"
    }
   ],
   "source": [
    "config.preprocess = \"rgb_darker\"\n",
    "\n",
    "test_metrices(pred_hold, pred(config.preprocess, config.encode_label))"
   ]
  },
  {
   "cell_type": "markdown",
   "id": "0d857386-b435-4c40-881f-096ec8efe271",
   "metadata": {},
   "source": [
    "#### Normal input"
   ]
  },
  {
   "cell_type": "markdown",
   "id": "4d11a1d7-2832-407d-a549-2c9103d10eb4",
   "metadata": {},
   "source": [
    "Metrics for the predictions made by the model using the normal image without preprocessing and majority vote encoding of the diagnoses.\n",
    "```\n",
    "{'accuracy': tensor(0.8000),\n",
    " 'confmatrix': tensor([[20.,  2.,  4.],\n",
    "         [ 4.,  6.,  0.],\n",
    "         [ 5.,  3., 46.]]),\n",
    " 'f1': tensor(0.7278),\n",
    " 'auroc': tensor([0.9044, 0.9237, 0.9131]),\n",
    " 'auroc_avg': tensor(0.9138)}\n",
    "```"
   ]
  },
  {
   "cell_type": "code",
   "execution_count": 15,
   "id": "38b9e7d6-8cf3-4364-86da-a31b86cd8bca",
   "metadata": {},
   "outputs": [
    {
     "data": {
      "text/plain": [
       "{'accuracy': tensor(0.8000),\n",
       " 'confmatrix': tensor([[20.,  2.,  4.],\n",
       "         [ 4.,  6.,  0.],\n",
       "         [ 5.,  3., 46.]]),\n",
       " 'f1': tensor(0.7278),\n",
       " 'auroc': tensor([0.9044, 0.9237, 0.9131]),\n",
       " 'auroc_avg': tensor(0.9138)}"
      ]
     },
     "execution_count": 15,
     "metadata": {},
     "output_type": "execute_result"
    }
   ],
   "source": [
    "config.preprocess = \"normal\"\n",
    "\n",
    "test_metrices(pred_hold, pred(config.preprocess, config.encode_label))"
   ]
  },
  {
   "cell_type": "markdown",
   "id": "85458bb9-07ae-4de5-9d9c-a8a8fe02349c",
   "metadata": {},
   "source": [
    "#### Contrast lesion"
   ]
  },
  {
   "cell_type": "markdown",
   "id": "17e57b55-ba67-49f1-8219-22c8ada88c49",
   "metadata": {},
   "source": [
    "Metrics for the predictions made by the model using the higher contrast lesion preprocessing and majority vote encoding of the diagnoses.\n",
    "```\n",
    "{'accuracy': tensor(0.7889),\n",
    " 'confmatrix': tensor([[20.,  3.,  3.],\n",
    "         [ 2.,  7.,  1.],\n",
    "         [ 6.,  4., 44.]]),\n",
    " 'f1': tensor(0.7289),\n",
    " 'auroc': tensor([0.9249, 0.8913, 0.9311]),\n",
    " 'auroc_avg': tensor(0.9157)}\n",
    "```"
   ]
  },
  {
   "cell_type": "code",
   "execution_count": 16,
   "id": "f3c582ee-ffe8-4a02-b3bd-907ba3634fb2",
   "metadata": {},
   "outputs": [
    {
     "data": {
      "text/plain": [
       "{'accuracy': tensor(0.7889),\n",
       " 'confmatrix': tensor([[20.,  3.,  3.],\n",
       "         [ 2.,  7.,  1.],\n",
       "         [ 6.,  4., 44.]]),\n",
       " 'f1': tensor(0.7289),\n",
       " 'auroc': tensor([0.9249, 0.8913, 0.9311]),\n",
       " 'auroc_avg': tensor(0.9157)}"
      ]
     },
     "execution_count": 16,
     "metadata": {},
     "output_type": "execute_result"
    }
   ],
   "source": [
    "config.preprocess = \"rgb_contrast\"\n",
    "\n",
    "test_metrices(pred_hold, pred(config.preprocess, config.encode_label))"
   ]
  },
  {
   "cell_type": "markdown",
   "id": "ad1beeaf-48d2-4478-8fcc-9e214d048585",
   "metadata": {},
   "source": [
    "#### Gray image"
   ]
  },
  {
   "cell_type": "markdown",
   "id": "275a0287-ed62-4121-8758-0d3533362816",
   "metadata": {},
   "source": [
    "Metrics for the predictions made by the model using the darker lesion for the gray image preprocessing and majority vote encoding of the diagnoses.\n",
    "```\n",
    "{'accuracy': tensor(0.7667),\n",
    " 'confmatrix': tensor([[17.,  4.,  5.],\n",
    "         [ 2.,  7.,  1.],\n",
    "         [ 4.,  5., 45.]]),\n",
    " 'f1': tensor(0.6965),\n",
    " 'auroc': tensor([0.9213, 0.8587, 0.9234]),\n",
    " 'auroc_avg': tensor(0.9011)}\n",
    "```"
   ]
  },
  {
   "cell_type": "code",
   "execution_count": 17,
   "id": "01411b7d-77b3-4e7b-a150-bda891cdec40",
   "metadata": {},
   "outputs": [
    {
     "data": {
      "text/plain": [
       "{'accuracy': tensor(0.7667),\n",
       " 'confmatrix': tensor([[17.,  4.,  5.],\n",
       "         [ 2.,  7.,  1.],\n",
       "         [ 4.,  5., 45.]]),\n",
       " 'f1': tensor(0.6965),\n",
       " 'auroc': tensor([0.9213, 0.8587, 0.9234]),\n",
       " 'auroc_avg': tensor(0.9011)}"
      ]
     },
     "execution_count": 17,
     "metadata": {},
     "output_type": "execute_result"
    }
   ],
   "source": [
    "config.preprocess = \"rgb_gray\"\n",
    "\n",
    "test_metrices(pred_hold, pred(config.preprocess, config.encode_label))"
   ]
  },
  {
   "cell_type": "markdown",
   "id": "a3c11e8c-6da0-4ecd-a91a-bc6c68b0e802",
   "metadata": {},
   "source": [
    "### Soft labels"
   ]
  },
  {
   "cell_type": "code",
   "execution_count": 18,
   "id": "0d7dd7cc-76a0-4ee6-85e8-076ebaf5af29",
   "metadata": {},
   "outputs": [],
   "source": [
    "config.encode_label = \"sl\""
   ]
  },
  {
   "cell_type": "markdown",
   "id": "4591a55a-12d2-47ed-9878-0e364261e7d1",
   "metadata": {},
   "source": [
    "#### Darker lesion"
   ]
  },
  {
   "cell_type": "markdown",
   "id": "226cdd4c-38b2-47f1-b189-9dbd1e2edd7d",
   "metadata": {},
   "source": [
    "Metrics for the predictions made by the model using the darker lesion preprocessing and soft label encoding of the diagnoses.\n",
    "```\n",
    "{'accuracy': tensor(0.8222),\n",
    " 'confmatrix': tensor([[18.,  4.,  4.],\n",
    "         [ 1.,  7.,  2.],\n",
    "         [ 3.,  2., 49.]]),\n",
    " 'f1': tensor(0.7526),\n",
    " 'auroc': tensor([0.9141, 0.9013, 0.9239]),\n",
    " 'auroc_avg': tensor(0.9131)}\n",
    "```"
   ]
  },
  {
   "cell_type": "code",
   "execution_count": 19,
   "id": "0c514172-1dc1-43d5-99db-51d6659a66c0",
   "metadata": {},
   "outputs": [
    {
     "data": {
      "text/plain": [
       "{'accuracy': tensor(0.8222),\n",
       " 'confmatrix': tensor([[18.,  4.,  4.],\n",
       "         [ 1.,  7.,  2.],\n",
       "         [ 3.,  2., 49.]]),\n",
       " 'f1': tensor(0.7526),\n",
       " 'auroc': tensor([0.9141, 0.9013, 0.9239]),\n",
       " 'auroc_avg': tensor(0.9131)}"
      ]
     },
     "execution_count": 19,
     "metadata": {},
     "output_type": "execute_result"
    }
   ],
   "source": [
    "config.preprocess = \"rgb_darker\"\n",
    "\n",
    "test_metrices(pred_hold, pred(config.preprocess, config.encode_label))"
   ]
  },
  {
   "cell_type": "markdown",
   "id": "d11c9691-0575-4906-a5ab-94db4164d48b",
   "metadata": {},
   "source": [
    "#### Normal input"
   ]
  },
  {
   "cell_type": "markdown",
   "id": "e170561c-12f8-40e8-b29b-e4792ed8c96b",
   "metadata": {},
   "source": [
    "Metrics for the predictions made by the model using the normal image without preprocessing and soft label encoding of the diagnoses.\n",
    "```\n",
    "{'accuracy': tensor(0.8111),\n",
    " 'confmatrix': tensor([[18.,  4.,  4.],\n",
    "         [ 0.,  9.,  1.],\n",
    "         [ 5.,  3., 46.]]),\n",
    " 'f1': tensor(0.7677),\n",
    " 'auroc': tensor([0.9062, 0.9275, 0.9259]),\n",
    " 'auroc_avg': tensor(0.9199)}\n",
    "```"
   ]
  },
  {
   "cell_type": "code",
   "execution_count": 20,
   "id": "0751b226-7e11-4da8-8ece-994c57d6db1b",
   "metadata": {},
   "outputs": [
    {
     "data": {
      "text/plain": [
       "{'accuracy': tensor(0.8111),\n",
       " 'confmatrix': tensor([[18.,  4.,  4.],\n",
       "         [ 0.,  9.,  1.],\n",
       "         [ 5.,  3., 46.]]),\n",
       " 'f1': tensor(0.7677),\n",
       " 'auroc': tensor([0.9062, 0.9275, 0.9259]),\n",
       " 'auroc_avg': tensor(0.9199)}"
      ]
     },
     "execution_count": 20,
     "metadata": {},
     "output_type": "execute_result"
    }
   ],
   "source": [
    "config.preprocess = \"normal\"\n",
    "\n",
    "test_metrices(pred_hold, pred(config.preprocess, config.encode_label))"
   ]
  },
  {
   "cell_type": "markdown",
   "id": "2163713c-d23e-4b8b-a4fe-de389afa1da1",
   "metadata": {},
   "source": [
    "#### Contrast lesion"
   ]
  },
  {
   "cell_type": "markdown",
   "id": "2b30a8d6-1b57-4c3c-892e-96d4fc9e112d",
   "metadata": {},
   "source": [
    "Metrics for the predictions made by the model using the higher contrast lesion preprocessing and soft label encoding of the diagnoses.\n",
    "```\n",
    "{'accuracy': tensor(0.8333),\n",
    " 'confmatrix': tensor([[18.,  5.,  3.],\n",
    "         [ 0.,  9.,  1.],\n",
    "         [ 3.,  3., 48.]]),\n",
    " 'f1': tensor(0.7794),\n",
    " 'auroc': tensor([0.9099, 0.9000, 0.9156]),\n",
    " 'auroc_avg': tensor(0.9085)}\n",
    "```"
   ]
  },
  {
   "cell_type": "code",
   "execution_count": 21,
   "id": "5c7745ab-17c3-420f-bc69-b13cc672d682",
   "metadata": {},
   "outputs": [
    {
     "data": {
      "text/plain": [
       "{'accuracy': tensor(0.8333),\n",
       " 'confmatrix': tensor([[18.,  5.,  3.],\n",
       "         [ 0.,  9.,  1.],\n",
       "         [ 3.,  3., 48.]]),\n",
       " 'f1': tensor(0.7794),\n",
       " 'auroc': tensor([0.9099, 0.9000, 0.9156]),\n",
       " 'auroc_avg': tensor(0.9085)}"
      ]
     },
     "execution_count": 21,
     "metadata": {},
     "output_type": "execute_result"
    }
   ],
   "source": [
    "config.preprocess = \"rgb_contrast\"\n",
    "\n",
    "test_metrices(pred_hold, pred(config.preprocess, config.encode_label))"
   ]
  },
  {
   "cell_type": "markdown",
   "id": "2cc3231e-3003-4587-8c81-bffdc3346fa4",
   "metadata": {},
   "source": [
    "#### Gray image"
   ]
  },
  {
   "cell_type": "markdown",
   "id": "6437a63c-3707-4d9e-af4b-a18068bf3af7",
   "metadata": {},
   "source": [
    "Metrics for the predictions made by the model using the darker lesion for the gray image preprocessing and soft label encoding of the diagnoses.\n",
    "```\n",
    "{'accuracy': tensor(0.8000),\n",
    " 'confmatrix': tensor([[22.,  0.,  4.],\n",
    "         [ 7.,  1.,  2.],\n",
    "         [ 3.,  2., 49.]]),\n",
    " 'f1': tensor(0.6038),\n",
    " 'auroc': tensor([0.9237, 0.8900, 0.9378]),\n",
    " 'auroc_avg': tensor(0.9171)}\n",
    "```"
   ]
  },
  {
   "cell_type": "code",
   "execution_count": 22,
   "id": "c8ceb84c-01b5-4f29-91ba-913558b6a4c7",
   "metadata": {},
   "outputs": [
    {
     "data": {
      "text/plain": [
       "{'accuracy': tensor(0.8000),\n",
       " 'confmatrix': tensor([[22.,  0.,  4.],\n",
       "         [ 7.,  1.,  2.],\n",
       "         [ 3.,  2., 49.]]),\n",
       " 'f1': tensor(0.6038),\n",
       " 'auroc': tensor([0.9237, 0.8900, 0.9378]),\n",
       " 'auroc_avg': tensor(0.9171)}"
      ]
     },
     "execution_count": 22,
     "metadata": {},
     "output_type": "execute_result"
    }
   ],
   "source": [
    "config.preprocess = \"rgb_gray\"\n",
    "\n",
    "test_metrices(pred_hold, pred(config.preprocess, config.encode_label))"
   ]
  }
 ],
 "metadata": {
  "kernelspec": {
   "display_name": "Python 3 (ipykernel)",
   "language": "python",
   "name": "python3"
  },
  "language_info": {
   "codemirror_mode": {
    "name": "ipython",
    "version": 3
   },
   "file_extension": ".py",
   "mimetype": "text/x-python",
   "name": "python",
   "nbconvert_exporter": "python",
   "pygments_lexer": "ipython3",
   "version": "3.11.5"
  }
 },
 "nbformat": 4,
 "nbformat_minor": 5
}
